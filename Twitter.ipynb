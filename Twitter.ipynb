{
 "cells": [
  {
   "cell_type": "code",
   "execution_count": 1,
   "metadata": {
    "collapsed": false
   },
   "outputs": [],
   "source": [
    "from tweepy import OAuthHandler, Stream, StreamListener\n",
    "from bs4 import BeautifulSoup\n",
    "import requests\n",
    "import json\n",
    "import io\n",
    "\n",
    "class StdOutListener(StreamListener):\n",
    "    def on_data(self, data):\n",
    "        print(data)\n",
    "        return True\n",
    "    def on_error(self, status):\n",
    "        print(status)\n",
    "\n",
    "with io.open('config_secret.json') as cred:\n",
    "    creds = json.load(cred)\n",
    "\n",
    "    auth = OAuthHandler(creds['CONSUMER_KEY'], creds['CONSUMER_SECRET'])\n",
    "    auth.set_access_token(creds['OAUTH_TOKEN'], creds['OAUTH_TOKEN_SECRET'])\n",
    "    stream = Stream(auth, StdOutListener())\n",
    "#     stream.filter(track=show_names)"
   ]
  },
  {
   "cell_type": "code",
   "execution_count": 2,
   "metadata": {
    "collapsed": false,
    "scrolled": true
   },
   "outputs": [],
   "source": [
    "from tweepy import OAuthHandler, Stream, StreamListener\n",
    "from bs4 import BeautifulSoup\n",
    "import requests, io, json\n",
    "from tweet_saver import Tweet_Saver\n",
    "import matplotlib.pyplot as plt\n",
    "from collections import defaultdict\n",
    "\n",
    "%matplotlib inline\n",
    "\n",
    "creds = json.load(io.open('config_secret.json'))\n",
    "\n",
    "auth = OAuthHandler(creds['CONSUMER_KEY'], creds['CONSUMER_SECRET'])\n",
    "auth.set_access_token(creds['OAUTH_TOKEN'], creds['OAUTH_TOKEN_SECRET'])\n",
    "\n",
    "def get_tweets(keywords, file, time_length):       \n",
    "      \n",
    "    stream = Stream(auth, Tweet_Saver(file, time_length))\n",
    "    stream.filter(track=keywords)\n",
    "    \n",
    "    print(\"Done grabbing tweets!\")\n",
    "\n",
    "def graph_tweets(file, keywords):\n",
    "    \n",
    "    #tweets_file = open(file, \"r\")\n",
    "    #tweets_data = [json.loads(line)['created_at'] for line in open(file, \"r\")]\n",
    "    #tweets_data = json.load(io.open(file, \"r\"))\n",
    "#     for line in tweets_file:\n",
    "#         tweets_data.append()\n",
    "    tweets_data = []\n",
    "    for tweet in open(file, \"r\", encoding='utf8'):\n",
    "        try:\n",
    "            tweets_data.append(json.loads(tweet))\n",
    "        except:\n",
    "            pass\n",
    "            \n",
    "    \n",
    "    tweet_counts = {word:0 for word in keywords}\n",
    "    for tweet in tweets_data:\n",
    "        for word in keywords:\n",
    "            if word in tweet['text']:\n",
    "                tweet_counts[word] += 1\n",
    "                    \n",
    "    output_dict = {}\n",
    "    for key, value in tweet_counts.items():\n",
    "        # takes the item (number) and if greater than zero will count associate it to the key\n",
    "        if value > 0:\n",
    "            output_dict[key] = value\n",
    "    \n",
    "    fig, ax = plt.subplots(figsize=(14,8))\n",
    "    width = .6\n",
    "    ax.tick_params(axis='x', labelsize=8)\n",
    "    ax.tick_params(axis='y', labelsize=10)\n",
    "    ax.set_xlabel('TV Show', fontsize=15)\n",
    "    ax.set_ylabel('Number of tweets' , fontsize=15)\n",
    "    ax.set_title('Top TV Shows', fontsize=15, fontweight='bold')\n",
    "    plt.bar(range(len(output_dict)), output_dict.values(), width, align='center')\n",
    "    plt.xticks(range(len(output_dict)), output_dict.keys(), rotation=90)\n",
    "    plt.xlim([0,len(output_dict)])\n",
    "    "
   ]
  },
  {
   "cell_type": "code",
   "execution_count": 3,
   "metadata": {
    "collapsed": false
   },
   "outputs": [],
   "source": [
    "response = requests.get('http://www.tvguide.com/trending-tonight/')\n",
    "txt = BeautifulSoup(response.text, 'lxml')\n",
    "\n",
    "show_names = []\n",
    "for trends in txt.find_all('a',{'class': 'listings-program-link'}):\n",
    "    show_names.append(trends.text)"
   ]
  },
  {
   "cell_type": "code",
   "execution_count": 4,
   "metadata": {
    "collapsed": false
   },
   "outputs": [
    {
     "name": "stdout",
     "output_type": "stream",
     "text": [
      "Getting tweets\n",
      "Done grabbing tweets!\n"
     ]
    },
    {
     "ename": "KeyError",
     "evalue": "'text'",
     "output_type": "error",
     "traceback": [
      "\u001b[0;31m---------------------------------------------------------------------------\u001b[0m",
      "\u001b[0;31mKeyError\u001b[0m                                  Traceback (most recent call last)",
      "\u001b[0;32m<ipython-input-4-2d2042b34494>\u001b[0m in \u001b[0;36m<module>\u001b[0;34m()\u001b[0m\n\u001b[1;32m      4\u001b[0m \u001b[0mget_tweets\u001b[0m\u001b[1;33m(\u001b[0m\u001b[0mshow_names\u001b[0m\u001b[1;33m,\u001b[0m \u001b[0mtweet_file\u001b[0m\u001b[1;33m,\u001b[0m \u001b[1;36m30\u001b[0m\u001b[1;33m)\u001b[0m\u001b[1;33m\u001b[0m\u001b[0m\n\u001b[1;32m      5\u001b[0m \u001b[1;33m\u001b[0m\u001b[0m\n\u001b[0;32m----> 6\u001b[0;31m \u001b[0mgraph_tweets\u001b[0m\u001b[1;33m(\u001b[0m\u001b[0mtweet_file\u001b[0m\u001b[1;33m,\u001b[0m \u001b[0mshow_names\u001b[0m\u001b[1;33m)\u001b[0m\u001b[1;33m\u001b[0m\u001b[0m\n\u001b[0m",
      "\u001b[0;32m<ipython-input-2-1617f526dd1a>\u001b[0m in \u001b[0;36mgraph_tweets\u001b[0;34m(file, keywords)\u001b[0m\n\u001b[1;32m     38\u001b[0m     \u001b[1;32mfor\u001b[0m \u001b[0mtweet\u001b[0m \u001b[1;32min\u001b[0m \u001b[0mtweets_data\u001b[0m\u001b[1;33m:\u001b[0m\u001b[1;33m\u001b[0m\u001b[0m\n\u001b[1;32m     39\u001b[0m         \u001b[1;32mfor\u001b[0m \u001b[0mword\u001b[0m \u001b[1;32min\u001b[0m \u001b[0mkeywords\u001b[0m\u001b[1;33m:\u001b[0m\u001b[1;33m\u001b[0m\u001b[0m\n\u001b[0;32m---> 40\u001b[0;31m             \u001b[1;32mif\u001b[0m \u001b[0mword\u001b[0m \u001b[1;32min\u001b[0m \u001b[0mtweet\u001b[0m\u001b[1;33m[\u001b[0m\u001b[1;34m'text'\u001b[0m\u001b[1;33m]\u001b[0m\u001b[1;33m:\u001b[0m\u001b[1;33m\u001b[0m\u001b[0m\n\u001b[0m\u001b[1;32m     41\u001b[0m                 \u001b[0mtweet_counts\u001b[0m\u001b[1;33m[\u001b[0m\u001b[0mword\u001b[0m\u001b[1;33m]\u001b[0m \u001b[1;33m+=\u001b[0m \u001b[1;36m1\u001b[0m\u001b[1;33m\u001b[0m\u001b[0m\n\u001b[1;32m     42\u001b[0m \u001b[1;33m\u001b[0m\u001b[0m\n",
      "\u001b[0;31mKeyError\u001b[0m: 'text'"
     ]
    }
   ],
   "source": [
    "print(\"Getting tweets\")\n",
    "tweet_file = 'testing2.txt'\n",
    "\n",
    "get_tweets(show_names, tweet_file, 30)\n",
    "\n",
    "graph_tweets(tweet_file, show_names)"
   ]
  },
  {
   "cell_type": "code",
   "execution_count": null,
   "metadata": {
    "collapsed": true
   },
   "outputs": [],
   "source": []
  }
 ],
 "metadata": {
  "anaconda-cloud": {},
  "kernelspec": {
   "display_name": "Python [conda root]",
   "language": "python",
   "name": "conda-root-py"
  },
  "language_info": {
   "codemirror_mode": {
    "name": "ipython",
    "version": 3
   },
   "file_extension": ".py",
   "mimetype": "text/x-python",
   "name": "python",
   "nbconvert_exporter": "python",
   "pygments_lexer": "ipython3",
   "version": "3.5.2"
  }
 },
 "nbformat": 4,
 "nbformat_minor": 1
}
